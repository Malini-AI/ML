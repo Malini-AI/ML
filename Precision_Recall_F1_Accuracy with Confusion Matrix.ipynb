{
 "cells": [
  {
   "cell_type": "code",
   "execution_count": 1,
   "metadata": {},
   "outputs": [],
   "source": [
    "from sklearn.tree import DecisionTreeClassifier\n",
    "from sklearn.metrics import confusion_matrix\n",
    "import seaborn as sns\n",
    "import numpy as np\n",
    "import pandas as pd\n",
    "import csv\n",
    "import math\n",
    "from matplotlib import pyplot as plt\n",
    "from sklearn.model_selection import train_test_split\n",
    "from sklearn import metrics\n",
    "from statistics import mean "
   ]
  },
  {
   "cell_type": "code",
   "execution_count": 84,
   "metadata": {},
   "outputs": [],
   "source": [
    "df=pd.read_csv(\"c:/Users/malin/Desktop/data.csv\")\n",
    "df.drop(df.index[0])\n",
    "\n",
    "row, col = df.shape\n",
    "\n",
    "X = df.iloc[:, 0:col - 1].values\n",
    "y = df.iloc[:, col - 1].values\n",
    "X = pd.DataFrame(data= X)\n"
   ]
  },
  {
   "cell_type": "code",
   "execution_count": 85,
   "metadata": {},
   "outputs": [],
   "source": [
    "x_train, x_test, y_train, y_test = train_test_split(X, y, test_size = 0.2)"
   ]
  },
  {
   "cell_type": "code",
   "execution_count": 86,
   "metadata": {},
   "outputs": [
    {
     "name": "stdout",
     "output_type": "stream",
     "text": [
      "0.9781494140625\n"
     ]
    },
    {
     "data": {
      "image/png": "[encoded data removed]",
      "text/plain": [
       "<Figure size 432x288 with 2 Axes>"
      ]
     },
     "metadata": {
      "needs_background": "light"
     },
     "output_type": "display_data"
    },
    {
     "name": "stdout",
     "output_type": "stream",
     "text": [
      "Wall time: 2.5 s\n"
     ]
    }
   ],
   "source": [
    "%%time\n",
    "# Decision tree\n",
    "# Create Decision Tree classifer object\n",
    "clf = DecisionTreeClassifier()\n",
    "# Train Decision Tree Classifer\n",
    "clf = clf.fit(x_train,y_train)\n",
    "#Predict the response for test dataset\n",
    "y_pred = clf.predict(x_test)\n",
    "accuracy = metrics.accuracy_score(y_test, y_pred)\n",
    "print(accuracy)\n",
    "cm = confusion_matrix(y_test, y_pred)\n",
    "cm_normalized = cm.astype(\"float\") / cm.sum(axis=1)[:, np.newaxis]\n",
    "ax = sns.heatmap(cm_normalized, cmap=\"bone_r\")\n",
    "ax.set_aspect(1)\n",
    "plt.title(\"Confusion matrix\")\n",
    "plt.ylabel(\"True Target\")\n",
    "plt.xlabel(\"Predicted Target\")\n",
    "plt.show()"
   ]
  },
  {
   "cell_type": "code",
   "execution_count": 87,
   "metadata": {},
   "outputs": [
    {
     "data": {
      "text/plain": [
       "array([ 1,  2,  3,  4,  5,  6,  7,  8,  9, 10, 11], dtype=int64)"
      ]
     },
     "execution_count": 87,
     "metadata": {},
     "output_type": "execute_result"
    }
   ],
   "source": [
    "u=np.unique(y_test)\n",
    "u"
   ]
  },
  {
   "cell_type": "code",
   "execution_count": 92,
   "metadata": {},
   "outputs": [
    {
     "data": {
      "text/plain": [
       "array([[0., 0., 0., 0., 0., 0., 0., 0., 0., 0., 0.],\n",
       "       [0., 0., 0., 0., 0., 0., 0., 0., 0., 0., 0.],\n",
       "       [0., 0., 0., 0., 0., 0., 0., 0., 0., 0., 0.],\n",
       "       [0., 0., 0., 0., 0., 0., 0., 0., 0., 0., 0.],\n",
       "       [0., 0., 0., 0., 0., 0., 0., 0., 0., 0., 0.],\n",
       "       [0., 0., 0., 0., 0., 0., 0., 0., 0., 0., 0.],\n",
       "       [0., 0., 0., 0., 0., 0., 0., 0., 0., 0., 0.],\n",
       "       [0., 0., 0., 0., 0., 0., 0., 0., 0., 0., 0.],\n",
       "       [0., 0., 0., 0., 0., 0., 0., 0., 0., 0., 0.],\n",
       "       [0., 0., 0., 0., 0., 0., 0., 0., 0., 0., 0.],\n",
       "       [0., 0., 0., 0., 0., 0., 0., 0., 0., 0., 0.]])"
      ]
     },
     "execution_count": 92,
     "metadata": {},
     "output_type": "execute_result"
    }
   ],
   "source": [
    "cm=np.zeros([len(u),len(u)])\n",
    "cm"
   ]
  },
  {
   "cell_type": "markdown",
   "metadata": {},
   "source": [
    "# Confusion Matrix "
   ]
  },
  {
   "cell_type": "code",
   "execution_count": 93,
   "metadata": {},
   "outputs": [
    {
     "data": {
      "text/plain": [
       "array([[703.,   0.,   0.,   0.,   0.,   9.,   0.,   0.,   0.,   0.,   0.],\n",
       "       [  0., 800.,   0.,   0.,   0.,   0.,   0.,   0.,   1.,  21.,   0.],\n",
       "       [  0.,   0., 726.,   2.,  13.,   0.,   0.,   0.,   0.,   0.,   0.],\n",
       "       [  0.,   0.,   3., 732.,   2.,   0.,   1.,   1.,   0.,   0.,   0.],\n",
       "       [  0.,   0.,   8.,   1., 722.,   0.,   0.,  16.,   0.,   0.,   0.],\n",
       "       [ 11.,   3.,   0.,   0.,   0., 742.,   0.,   1.,  12.,   0.,   0.],\n",
       "       [  0.,   0.,   0.,   0.,   0.,   0., 760.,   0.,   0.,   0.,   0.],\n",
       "       [  0.,   0.,   2.,   3.,  21.,   0.,   0., 689.,   0.,   0.,   0.],\n",
       "       [  5.,   1.,   0.,   0.,   0.,  15.,   0.,   0., 715.,   1.,   0.],\n",
       "       [  0.,  25.,   0.,   0.,   0.,   0.,   0.,   0.,   1., 705.,   0.],\n",
       "       [  0.,   0.,   0.,   0.,   0.,   0.,   0.,   0.,   0.,   0., 719.]])"
      ]
     },
     "execution_count": 93,
     "metadata": {},
     "output_type": "execute_result"
    }
   ],
   "source": [
    "for i in range(len(y_test)):\n",
    "    cm[y_pred[i]-1][y_test[i]-1]=cm[y_pred[i]-1][y_test[i]-1]+1\n",
    "    \n",
    "        \n",
    "cm=np.transpose(cm)\n",
    "cm"
   ]
  },
  {
   "cell_type": "code",
   "execution_count": 94,
   "metadata": {},
   "outputs": [
    {
     "data": {
      "image/png": "[encoded data removed]",
      "text/plain": [
       "<Figure size 432x288 with 2 Axes>"
      ]
     },
     "metadata": {
      "needs_background": "light"
     },
     "output_type": "display_data"
    }
   ],
   "source": [
    "plt.imshow(cm, cmap=\"BuPu\",vmin=0,vmax=len(u))\n",
    "plt.colorbar()\n",
    "plt.show()"
   ]
  },
  {
   "cell_type": "markdown",
   "metadata": {},
   "source": [
    "# Accuracy"
   ]
  },
  {
   "cell_type": "code",
   "execution_count": 8,
   "metadata": {},
   "outputs": [
    {
     "name": "stdout",
     "output_type": "stream",
     "text": [
      "Accuracy  0.9815673828125\n"
     ]
    }
   ],
   "source": [
    "accuracy=[]\n",
    "for i in range(len(cm[0])):\n",
    "    accuracy.append(cm[i][i])\n",
    "\n",
    "accuracy=sum(accuracy)/sum(sum(cm))\n",
    "print(\"Accuracy \",accuracy)"
   ]
  },
  {
   "cell_type": "code",
   "execution_count": 9,
   "metadata": {},
   "outputs": [
    {
     "data": {
      "text/plain": [
       "0.9815673828125"
      ]
     },
     "execution_count": 9,
     "metadata": {},
     "output_type": "execute_result"
    }
   ],
   "source": [
    "from sklearn.metrics import accuracy_score\n",
    "accuracy_score(y_test, y_pred)"
   ]
  },
  {
   "cell_type": "markdown",
   "metadata": {},
   "source": [
    "# Precision"
   ]
  },
  {
   "cell_type": "code",
   "execution_count": 10,
   "metadata": {},
   "outputs": [
    {
     "name": "stdout",
     "output_type": "stream",
     "text": [
      "[0.9818652849740933, 0.9654696132596685, 0.9854497354497355, 0.9923076923076923, 0.9636871508379888, 0.9663865546218487, 1.0, 0.9859353023909986, 0.9680851063829787, 0.9857512953367875, 1.0]\n",
      "\n",
      "Precision  0.9813579759601629\n"
     ]
    }
   ],
   "source": [
    "precision=[]\n",
    "for i in range(len(cm[0])):\n",
    "    if sum(cm[i])!=0:\n",
    "        precision.append(cm[i][i]/sum(cm[i]))\n",
    "    else:\n",
    "        precision.append(0)\n",
    "print(precision)\n",
    "print(\"\\nPrecision \",mean(precision))"
   ]
  },
  {
   "cell_type": "code",
   "execution_count": 11,
   "metadata": {},
   "outputs": [
    {
     "data": {
      "text/plain": [
       "0.9814671961600099"
      ]
     },
     "execution_count": 11,
     "metadata": {},
     "output_type": "execute_result"
    }
   ],
   "source": [
    "from sklearn.metrics import precision_score\n",
    "precision_score(y_test, y_pred, average='macro')"
   ]
  },
  {
   "cell_type": "markdown",
   "metadata": {},
   "source": [
    "# Recall"
   ]
  },
  {
   "cell_type": "code",
   "execution_count": 12,
   "metadata": {},
   "outputs": [
    {
     "name": "stdout",
     "output_type": "stream",
     "text": [
      "[0.979328165374677, 0.9831223628691983, 0.9802631578947368, 0.993581514762516, 0.967741935483871, 0.9583333333333334, 0.9986754966887417, 0.9859353023909986, 0.978494623655914, 0.9706632653061225, 1.0]\n",
      "\n",
      "Recall 0.9814671961600099\n"
     ]
    }
   ],
   "source": [
    "recall=[]\n",
    "for i in range(len(cm[0])):\n",
    "    if sum(cm[:,i])!=0:\n",
    "        recall.append(cm[i][i]/sum(cm[:,i]))\n",
    "    else:\n",
    "        recall.append(0)\n",
    "print(recall)\n",
    "print(\"\\nRecall\",mean(recall))"
   ]
  },
  {
   "cell_type": "code",
   "execution_count": 13,
   "metadata": {},
   "outputs": [
    {
     "data": {
      "text/plain": [
       "0.9813579759601629"
      ]
     },
     "execution_count": 13,
     "metadata": {},
     "output_type": "execute_result"
    }
   ],
   "source": [
    "from sklearn.metrics import recall_score\n",
    "recall_score(y_test, y_pred, average='macro')"
   ]
  },
  {
   "cell_type": "markdown",
   "metadata": {},
   "source": [
    "# F1 Score"
   ]
  },
  {
   "cell_type": "code",
   "execution_count": 14,
   "metadata": {},
   "outputs": [
    {
     "name": "stdout",
     "output_type": "stream",
     "text": [
      "[0.9805950840879689, 0.9742160278745645, 0.9828496042216359, 0.9929441949967928, 0.9657102869139258, 0.9623430962343097, 0.9993373094764745, 0.9859353023909987, 0.9732620320855615, 0.9781491002570694, 1.0]\n",
      "\n",
      "F1  0.9813947307763001\n"
     ]
    }
   ],
   "source": [
    "f1=[]\n",
    "for i in range(len(cm[0])):\n",
    "    if precision[i]+recall[i]!=0:\n",
    "        f1.append((2*precision[i]*recall[i])/(precision[i]+recall[i]))\n",
    "    else:\n",
    "        f1.append(0)\n",
    "print(f1)\n",
    "print(\"\\nF1 \",mean(f1))"
   ]
  },
  {
   "cell_type": "code",
   "execution_count": 15,
   "metadata": {},
   "outputs": [
    {
     "data": {
      "text/plain": [
       "0.9813947307763001"
      ]
     },
     "execution_count": 15,
     "metadata": {},
     "output_type": "execute_result"
    }
   ],
   "source": [
    "from sklearn.metrics import f1_score\n",
    "f1_score(y_test, y_pred, average='macro')"
   ]
  },
  {
   "cell_type": "code",
   "execution_count": null,
   "metadata": {},
   "outputs": [],
   "source": []
  }
 ],
 "metadata": {
  "kernelspec": {
   "display_name": "Python 3",
   "language": "python",
   "name": "python3"
  },
  "language_info": {
   "codemirror_mode": {
    "name": "ipython",
    "version": 3
   },
   "file_extension": ".py",
   "mimetype": "text/x-python",
   "name": "python",
   "nbconvert_exporter": "python",
   "pygments_lexer": "ipython3",
   "version": "3.7.3"
  }
 },
 "nbformat": 4,
 "nbformat_minor": 2
}
