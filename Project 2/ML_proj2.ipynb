{
 "cells": [
  {
   "cell_type": "code",
   "execution_count": null,
   "metadata": {},
   "outputs": [],
   "source": [
    "# Import packages needed\n",
    "import math\n",
    "import csv\n",
    "import pandas as pd\n",
    "import numpy as np\n",
    "from sklearn.cluster import KMeans\n",
    "import matplotlib.pyplot\n",
    "from matplotlib import pyplot as plt\n",
    "\n"
   ]
  },
  {
   "cell_type": "code",
   "execution_count": null,
   "metadata": {},
   "outputs": [],
   "source": [
    "#Read files\n",
    "df1=pd.read_csv('same_pairs.csv')\n",
    "df2=pd.read_csv('HumanObserved-Features-Data.csv')\n",
    "df3=pd.read_csv('diffn_pairs.csv')\n",
    "\n",
    "#Merge same pair and human observed sata\n",
    "df4=pd.merge(df1,df2,left_on=\"img_id_A\",right_on=\"img_id\")\n",
    "df5=pd.merge(df4,df2,left_on=\"img_id_B\",right_on=\"img_id\")\n",
    "\n",
    "#different pair and human observed data\n",
    "df7=pd.merge(df3,df2,left_on=\"img_id_A\",right_on=\"img_id\")\n",
    "df8=pd.merge(df7,df2,left_on=\"img_id_B\",right_on=\"img_id\")\n",
    "\n"
   ]
  },
  {
   "cell_type": "code",
   "execution_count": null,
   "metadata": {},
   "outputs": [],
   "source": [
    "# Append both the data frames to get one dataset, Human Observed Dataset with feature concatentation\"\n",
    "result=df5.append(df8)\n",
    "\n",
    "# drop not needed columns obtained while concatenating the csv's\n",
    "result.drop('img_id_x',axis=1,inplace=True)\n",
    "result.drop('img_id_y',axis=1,inplace=True)\n",
    "result.drop('index_x',axis=1,inplace=True)\n",
    "result.drop('index_y',axis=1,inplace=True)\n",
    "result.drop('img_id_A',axis=1,inplace=True)\n",
    "result.drop('img_id_B',axis=1,inplace=True)\n",
    "#result.to_csv('concat.csv', sep='\\t', encoding='utf-8',header=None,index=False)\n",
    "\n"
   ]
  },
  {
   "cell_type": "code",
   "execution_count": null,
   "metadata": {},
   "outputs": [],
   "source": [
    "# Normalize the data\n",
    "my_data = (result - result.mean())/result.std()\n",
    "my_data\n",
    "\n",
    "#create matrices and hyperparameter\n",
    "X = my_data.iloc[:,0:18]\n",
    "ones = np.ones([X.shape[0],1])\n",
    "X = np.concatenate((ones,X),axis=1)\n",
    "y = my_data.iloc[:,2:3].values #.values converts it from pandas.core.frame.DataFrame to numpy.ndarray\n",
    "theta = np.zeros([1,19])\n",
    "#set hyper parameters\n",
    "alpha = 0.01\n",
    "iters = 1000\n",
    "\n"
   ]
  },
  {
   "cell_type": "code",
   "execution_count": null,
   "metadata": {},
   "outputs": [],
   "source": [
    "#Create cost function\n",
    "def computeCost(X,y,theta):\n",
    "    tobesummed = np.power(((X @ theta.T)-y),2)\n",
    "    return np.sum(tobesummed)/(2 * len(X))\n",
    "\n",
    "#gradient descent\n",
    "def gradientDescent(X,y,theta,iters,alpha):\n",
    "    cost = np.zeros(iters)\n",
    "    for i in range(iters):\n",
    "        theta = theta - (alpha/len(X)) * np.sum(X * (X @ theta.T - y), axis=0)\n",
    "        cost[i] = computeCost(X, y, theta)\n",
    "    \n",
    "    return theta,cost\n",
    "\n",
    "#running the gd and cost function\n",
    "g,cost = gradientDescent(X,y,theta,iters,alpha)\n",
    "print(g)\n",
    "finalCost = computeCost(X,y,g)\n",
    "print(finalCost)\n",
    "\n"
   ]
  },
  {
   "cell_type": "code",
   "execution_count": null,
   "metadata": {},
   "outputs": [],
   "source": [
    "#plot the cost\n",
    "fig, ax = plt.subplots()  \n",
    "ax.plot(np.arange(iters), cost, 'r')  \n",
    "ax.set_xlabel('Iterations')  \n",
    "ax.set_ylabel('Cost')  \n",
    "ax.set_title('Error vs. Training Epoch')  \n"
   ]
  },
  {
   "cell_type": "code",
   "execution_count": null,
   "metadata": {},
   "outputs": [],
   "source": [
    "#---------------------------------------------------------------------------------------------------------#\n",
    "#subtraction\n",
    "result1=result\n",
    "result1[\"f1\"]=result[\"f1_x\"]-result[\"f1_y\"]\n",
    "result1[\"f2\"]=result[\"f2_x\"]-result[\"f2_y\"]\n",
    "result1[\"f3\"]=result[\"f3_x\"]-result[\"f3_y\"]\n",
    "result1[\"f4\"]=result[\"f4_x\"]-result[\"f4_y\"]\n",
    "result1[\"f5\"]=result[\"f5_x\"]-result[\"f5_y\"]\n",
    "result1[\"f6\"]=result[\"f6_x\"]-result[\"f6_y\"]\n",
    "result1[\"f7\"]=result[\"f7_x\"]-result[\"f7_y\"]\n",
    "result1[\"f8\"]=result[\"f8_x\"]-result[\"f8_y\"]\n",
    "result1[\"f9\"]=result[\"f9_x\"]-result[\"f9_y\"]\n",
    "\n",
    "#drop unwanted columns\n",
    "result1.drop('img_id_A',axis=1,inplace=True)\n",
    "result1.drop('img_id_B',axis=1,inplace=True)\n",
    "result1.drop('f1_x',axis=1,inplace=True)\n",
    "result1.drop('f2_x',axis=1,inplace=True)\n",
    "result1.drop('f3_x',axis=1,inplace=True)\n",
    "result1.drop('f4_x',axis=1,inplace=True)\n",
    "result1.drop('f5_x',axis=1,inplace=True)\n",
    "result1.drop('f6_x',axis=1,inplace=True)\n",
    "result1.drop('f7_x',axis=1,inplace=True)\n",
    "result1.drop('f8_x',axis=1,inplace=True)\n",
    "result1.drop('f9_x',axis=1,inplace=True)\n",
    "result1.drop('f1_y',axis=1,inplace=True)\n",
    "result1.drop('f2_y',axis=1,inplace=True)\n",
    "result1.drop('f3_y',axis=1,inplace=True)\n",
    "result1.drop('f4_y',axis=1,inplace=True)\n",
    "result1.drop('f5_y',axis=1,inplace=True)\n",
    "result1.drop('f6_y',axis=1,inplace=True)\n",
    "result1.drop('f7_y',axis=1,inplace=True)\n",
    "result1.drop('f8_y',axis=1,inplace=True)\n",
    "result1.drop('f9_y',axis=1,inplace=True)\n",
    "\n",
    "result.abs()"
   ]
  },
  {
   "cell_type": "code",
   "execution_count": null,
   "metadata": {},
   "outputs": [],
   "source": [
    "#Normalize data\n",
    "my_data1 = (result1 - result1.mean())/result1.std()\n",
    "my_data1\n",
    "\n",
    "X = my_data1.iloc[:,0:2]\n",
    "ones = np.ones([X.shape[0],1])\n",
    "X = np.concatenate((ones,X),axis=1)\n",
    "\n",
    "y = my_data1.iloc[:,2:3].values #.values converts it from pandas.core.frame.DataFrame to numpy.ndarray\n",
    "theta = np.zeros([1,3])\n",
    "\n",
    "#set hyper parameters\n",
    "alpha = 0.01\n",
    "iters = 1000\n",
    "\n",
    "#Calculate cost function\n",
    "def computeCost(X,y,theta):\n",
    "    tobesummed = np.power(((X @ theta.T)-y),2)\n",
    "    return np.sum(tobesummed)/(2 * len(X))\n",
    "\n",
    "#gradient descent\n",
    "def gradientDescent(X,y,theta,iters,alpha):\n",
    "    cost = np.zeros(iters)\n",
    "    for i in range(iters):\n",
    "        theta = theta - (alpha/len(X)) * np.sum(X * (X @ theta.T - y), axis=0)\n",
    "        cost[i] = computeCost(X, y, theta)\n",
    "    \n",
    "    return theta,cost"
   ]
  },
  {
   "cell_type": "code",
   "execution_count": null,
   "metadata": {},
   "outputs": [],
   "source": [
    "#running the gd and cost function\n",
    "g,cost = gradientDescent(X,y,theta,iters,alpha)\n",
    "print(g)\n",
    "\n",
    "finalCost = computeCost(X,y,g)\n",
    "print(finalCost)\n",
    "\n",
    "#plot the cost\n",
    "fig, ax = plt.subplots()  \n",
    "ax.plot(np.arange(iters), cost, 'r')  \n",
    "ax.set_xlabel('Iterations')  \n",
    "ax.set_ylabel('Cost')  \n",
    "ax.set_title('Error vs. Training Epoch')  "
   ]
  }
 ],
 "metadata": {
  "kernelspec": {
   "display_name": "Python 3",
   "language": "python",
   "name": "python3"
  },
  "language_info": {
   "codemirror_mode": {
    "name": "ipython",
    "version": 3
   },
   "file_extension": ".py",
   "mimetype": "text/x-python",
   "name": "python",
   "nbconvert_exporter": "python",
   "pygments_lexer": "ipython3",
   "version": "3.7.3"
  }
 },
 "nbformat": 4,
 "nbformat_minor": 2
}
